{
 "cells": [
  {
   "cell_type": "markdown",
   "id": "ff82eead",
   "metadata": {},
   "source": [
    "#1. the code is given below"
   ]
  },
  {
   "cell_type": "code",
   "execution_count": 1,
   "id": "84aeda81",
   "metadata": {},
   "outputs": [
    {
     "name": "stdout",
     "output_type": "stream",
     "text": [
      "First variable is 45 & second variable is 9.\n",
      "Addition: 45 + 9 = 54\n",
      "Subtraction: 45 - 9 = 36\n",
      "Multiplication: 45 * 9 = 405\n",
      "Division: 45 / 9 = 5.0\n"
     ]
    }
   ],
   "source": [
    "#creating 2 int type variable\n",
    "first_variable = 45\n",
    "second_variable = 9\n",
    "\n",
    "# Performing addition, subtraction, multiplication, and division\n",
    "addition_result = first_variable + second_variable\n",
    "subtraction_result = first_variable - second_variable\n",
    "multiplication_result = first_variable * second_variable\n",
    "\n",
    "# Checking for division by zero to avoid a potential error\n",
    "if second_variable != 0:\n",
    "    division_result = first_variable / second_variable\n",
    "else:\n",
    "    division_result = \"Undefined (division by zero)\"\n",
    "\n",
    "# Printing the results in the specified format\n",
    "print(f\"First variable is {first_variable} & second variable is {second_variable}.\")\n",
    "print(f\"Addition: {first_variable} + {second_variable} = {addition_result}\")\n",
    "print(f\"Subtraction: {first_variable} - {second_variable} = {subtraction_result}\")\n",
    "print(f\"Multiplication: {first_variable} * {second_variable} = {multiplication_result}\")\n",
    "print(f\"Division: {first_variable} / {second_variable} = {division_result}\")"
   ]
  },
  {
   "cell_type": "markdown",
   "id": "7599949f",
   "metadata": {},
   "source": [
    "#2. The difference between the operators are given below:\n",
    "(i) '/' vs. '//':\n",
    "\n",
    "    '/' is the division operator in Python and is used for regular division. It returns a floating-point result, even if the inputs are integers.\n",
    "\n",
    "    '//' is the floor division operator in Python. It performs division and rounds down to the nearest integer. It returns an integer result, truncating the fractional part of the division.\n",
    "\n",
    "Here's an example to illustrate the difference:"
   ]
  },
  {
   "cell_type": "code",
   "execution_count": 4,
   "id": "68c4cbdb",
   "metadata": {},
   "outputs": [
    {
     "name": "stdout",
     "output_type": "stream",
     "text": [
      "2.3333333333333335\n",
      "2\n"
     ]
    }
   ],
   "source": [
    "a = 7\n",
    "b = 3\n",
    "\n",
    "result_regular_division = a / b\n",
    "result_floor_division = a // b \n",
    "\n",
    "print(result_regular_division)\n",
    "print(result_floor_division)"
   ]
  },
  {
   "cell_type": "markdown",
   "id": "92a5bd6c",
   "metadata": {},
   "source": [
    "(ii) '**' vs. '^':\n",
    "\n",
    "    '**' is the exponentiation operator in Python. It is used to raise a number to a power. For example, a ** b means 'a' raised to the power of 'b'.\n",
    "    \n",
    "    '^' is not an exponentiation operator in Python. Instead, it is a bitwise XOR (exclusive OR) operator used for binary manipulation.\n",
    "\n",
    "Here's an example to illustrate the difference:"
   ]
  },
  {
   "cell_type": "code",
   "execution_count": 7,
   "id": "aac40cc2",
   "metadata": {},
   "outputs": [
    {
     "name": "stdout",
     "output_type": "stream",
     "text": [
      "8\n",
      "1\n"
     ]
    }
   ],
   "source": [
    "a = 2\n",
    "b = 3\n",
    "\n",
    "result_exponentiation = a ** b  \n",
    "result_bitwise_xor = a ^ b   ## binary: 10^11=01\n",
    "\n",
    "print(result_exponentiation)\n",
    "print(result_bitwise_xor)"
   ]
  },
  {
   "cell_type": "markdown",
   "id": "97aa8069",
   "metadata": {},
   "source": [
    "#3. Logical operators are used in programming to perform logical operations on Boolean values (True or False). In Python, there are three main logical operators:\n",
    "\n",
    "i) and: The \"and\" operator returns True if both operands are True. Otherwise, it returns False. For example:"
   ]
  },
  {
   "cell_type": "code",
   "execution_count": 11,
   "id": "7fafd325",
   "metadata": {},
   "outputs": [
    {
     "data": {
      "text/plain": [
       "True"
      ]
     },
     "execution_count": 11,
     "metadata": {},
     "output_type": "execute_result"
    }
   ],
   "source": [
    "True and True"
   ]
  },
  {
   "cell_type": "code",
   "execution_count": 12,
   "id": "f5ae75a1",
   "metadata": {},
   "outputs": [
    {
     "data": {
      "text/plain": [
       "False"
      ]
     },
     "execution_count": 12,
     "metadata": {},
     "output_type": "execute_result"
    }
   ],
   "source": [
    "True and False  "
   ]
  },
  {
   "cell_type": "code",
   "execution_count": 13,
   "id": "c85ff8c2",
   "metadata": {},
   "outputs": [
    {
     "data": {
      "text/plain": [
       "False"
      ]
     },
     "execution_count": 13,
     "metadata": {},
     "output_type": "execute_result"
    }
   ],
   "source": [
    "False and False"
   ]
  },
  {
   "cell_type": "markdown",
   "id": "2e593954",
   "metadata": {},
   "source": [
    "ii) or: The \"or\" operator returns True if at least one of the operands is True. It returns False only if both operands are False. For example:"
   ]
  },
  {
   "cell_type": "code",
   "execution_count": 14,
   "id": "d7ccfb06",
   "metadata": {},
   "outputs": [
    {
     "data": {
      "text/plain": [
       "True"
      ]
     },
     "execution_count": 14,
     "metadata": {},
     "output_type": "execute_result"
    }
   ],
   "source": [
    "True or True    \n"
   ]
  },
  {
   "cell_type": "code",
   "execution_count": 15,
   "id": "75680593",
   "metadata": {},
   "outputs": [
    {
     "data": {
      "text/plain": [
       "True"
      ]
     },
     "execution_count": 15,
     "metadata": {},
     "output_type": "execute_result"
    }
   ],
   "source": [
    "True or False"
   ]
  },
  {
   "cell_type": "code",
   "execution_count": 16,
   "id": "0404fe53",
   "metadata": {},
   "outputs": [
    {
     "data": {
      "text/plain": [
       "False"
      ]
     },
     "execution_count": 16,
     "metadata": {},
     "output_type": "execute_result"
    }
   ],
   "source": [
    "False or False  "
   ]
  },
  {
   "cell_type": "markdown",
   "id": "d46bb0ff",
   "metadata": {},
   "source": [
    "iii) not: The \"not\" operator returns the opposite of the operand's value. If the operand is True, not makes it False, and if the operand is False, not makes it True. For example:"
   ]
  },
  {
   "cell_type": "code",
   "execution_count": 17,
   "id": "5afcc16b",
   "metadata": {},
   "outputs": [
    {
     "data": {
      "text/plain": [
       "False"
      ]
     },
     "execution_count": 17,
     "metadata": {},
     "output_type": "execute_result"
    }
   ],
   "source": [
    "not True  "
   ]
  },
  {
   "cell_type": "code",
   "execution_count": 19,
   "id": "7d3e5cc1",
   "metadata": {},
   "outputs": [
    {
     "data": {
      "text/plain": [
       "True"
      ]
     },
     "execution_count": 19,
     "metadata": {},
     "output_type": "execute_result"
    }
   ],
   "source": [
    "not False"
   ]
  },
  {
   "cell_type": "markdown",
   "id": "49929539",
   "metadata": {},
   "source": [
    "#4. In Python, the right shift operator (>>) and left shift operator (<<) are used to perform bitwise shift operations on integers. These operators manipulate the binary representation of integer values by shifting the bits to the right or left.\n",
    "\n",
    "i) Right Shift Operator (>>):\n",
    "\n",
    "    The right shift operator shifts the bits of a binary number to the right by a specified number of positions. It effectively divides the integer by a power of 2.\n",
    "\n",
    "Syntax: x >> n, where x is the integer value to be shifted, and n is the number of positions to shift.\n",
    "\n",
    "Example:"
   ]
  },
  {
   "cell_type": "code",
   "execution_count": 20,
   "id": "a38c0797",
   "metadata": {},
   "outputs": [
    {
     "name": "stdout",
     "output_type": "stream",
     "text": [
      "3\n"
     ]
    }
   ],
   "source": [
    "x = 12  # Binary: 1100\n",
    "n = 2   # Right shift by 2 positions\n",
    "\n",
    "result = x >> n\n",
    "# Binary shift: 1100 >> 2 = 0011\n",
    "# Decimal: 3\n",
    "\n",
    "print(result)"
   ]
  },
  {
   "cell_type": "markdown",
   "id": "cd08c393",
   "metadata": {},
   "source": [
    "ii) Left Shift Operator (<<):\n",
    "\n",
    "    The left shift operator shifts the bits of a binary number to the left by a specified number of positions. It effectively multiplies the integer by a power of 2.\n",
    "\n",
    "Syntax: x << n, where x is the integer value to be shifted, and n is the number of positions to shift.\n",
    "\n",
    "Example:"
   ]
  },
  {
   "cell_type": "code",
   "execution_count": 22,
   "id": "dc4e79b2",
   "metadata": {},
   "outputs": [
    {
     "name": "stdout",
     "output_type": "stream",
     "text": [
      "20\n"
     ]
    }
   ],
   "source": [
    "x = 5   # Binary: 101\n",
    "n = 2   # Left shift by 2 positions\n",
    "\n",
    "result = x << n\n",
    "# Binary shift: 101 << 2 = 10100\n",
    "# Decimal: 20\n",
    "\n",
    "print(result)  "
   ]
  },
  {
   "cell_type": "markdown",
   "id": "835f5247",
   "metadata": {},
   "source": [
    "#5. the code is given below:"
   ]
  },
  {
   "cell_type": "code",
   "execution_count": 24,
   "id": "ef99537d",
   "metadata": {},
   "outputs": [
    {
     "name": "stdout",
     "output_type": "stream",
     "text": [
      "10 is present in the list.\n"
     ]
    }
   ],
   "source": [
    "# Create a list of integers\n",
    "my_list = [3, 7, 1, 9, 5, 10, 8, 2, 6, 4, 15, 11, 14, 13, 12]\n",
    "\n",
    "# Check if 10 is present in the list\n",
    "if 10 in my_list:\n",
    "    print(\"10 is present in the list.\")\n",
    "else:\n",
    "    print(\"10 is not present in the list.\")"
   ]
  },
  {
   "cell_type": "code",
   "execution_count": null,
   "id": "f7347e14",
   "metadata": {},
   "outputs": [],
   "source": []
  }
 ],
 "metadata": {
  "kernelspec": {
   "display_name": "Python 3 (ipykernel)",
   "language": "python",
   "name": "python3"
  },
  "language_info": {
   "codemirror_mode": {
    "name": "ipython",
    "version": 3
   },
   "file_extension": ".py",
   "mimetype": "text/x-python",
   "name": "python",
   "nbconvert_exporter": "python",
   "pygments_lexer": "ipython3",
   "version": "3.11.3"
  }
 },
 "nbformat": 4,
 "nbformat_minor": 5
}
